{
 "cells": [
  {
   "cell_type": "code",
   "execution_count": 1,
   "id": "10241a2d-d54c-4f26-929a-ed976a66db63",
   "metadata": {},
   "outputs": [],
   "source": [
    "import equinox as eqx\n",
    "import jax\n",
    "import optax\n",
    "from jaxtyping import Array, Float, UInt\n",
    "from tqdm.notebook import trange\n",
    "\n",
    "from deep_sets_jax.dataset import Dataset\n",
    "from deep_sets_jax.model import DeepSets, loss"
   ]
  },
  {
   "cell_type": "code",
   "execution_count": 2,
   "id": "64463c9e-aab9-4acd-8fa9-a82589569435",
   "metadata": {},
   "outputs": [
    {
     "name": "stderr",
     "output_type": "stream",
     "text": [
      "An NVIDIA GPU may be present on this machine, but a CUDA-enabled jaxlib is not installed. Falling back to cpu.\n"
     ]
    },
    {
     "data": {
      "text/plain": [
       "Dataset(\n",
       "  x_train=u8[60000,28,28],\n",
       "  x_test=u8[10000,28,28],\n",
       "  y_train=u8[60000],\n",
       "  y_test=u8[10000]\n",
       ")"
      ]
     },
     "execution_count": 2,
     "metadata": {},
     "output_type": "execute_result"
    }
   ],
   "source": [
    "dataset = Dataset.download_archive()\n",
    "dataset"
   ]
  },
  {
   "cell_type": "code",
   "execution_count": 3,
   "id": "15bc35ce-958e-49f0-9b81-1b437ee5dc1d",
   "metadata": {},
   "outputs": [],
   "source": [
    "key = jax.random.PRNGKey(1234)\n",
    "key_model, key_train, key_test = jax.random.split(key, 3)\n",
    "model = DeepSets(key_model)"
   ]
  },
  {
   "cell_type": "code",
   "execution_count": 4,
   "id": "2b6d4b53-4d02-4387-8232-30d0902ff88e",
   "metadata": {},
   "outputs": [
    {
     "data": {
      "application/vnd.jupyter.widget-view+json": {
       "model_id": "",
       "version_major": 2,
       "version_minor": 0
      },
      "text/plain": [
       "  0%|          | 0/10000 [00:00<?, ? steps/s]"
      ]
     },
     "metadata": {},
     "output_type": "display_data"
    }
   ],
   "source": [
    "opt = optax.adam(learning_rate=1)\n",
    "opt_state = opt.init(eqx.filter(model, eqx.is_array))\n",
    "steps = 10000\n",
    "print_every = 1000\n",
    "num_test_samples = 1000\n",
    "\n",
    "test_samples = [\n",
    "    (x_test, y_test)\n",
    "    for _, (x_test, y_test) in zip(\n",
    "        range(num_test_samples), dataset.sample_test(key_test), strict=False\n",
    "    )\n",
    "]\n",
    "\n",
    "\n",
    "@eqx.filter_jit\n",
    "def make_step(\n",
    "    model: DeepSets,\n",
    "    opt_state: optax.OptState,\n",
    "    x: Float[Array, \"num_images 1 28 28\"],\n",
    "    y: UInt[Array, \" \"],\n",
    ") -> tuple[DeepSets, optax.OptState, float]:\n",
    "    \"\"\"\n",
    "    Perform one (gradient) step using the gradient of the loss function, and the current optimization state.\n",
    "\n",
    "    Args:\n",
    "        model: The Deep Sets model.\n",
    "        opt_state: The current optimization state.\n",
    "        x: The input image(s).\n",
    "        y: The desired output.\n",
    "    \"\"\"\n",
    "    loss_value, grads = eqx.filter_value_and_grad(loss)(model, x, y)\n",
    "    updates, opt_state = opt.update(grads, opt_state, model)\n",
    "    model = eqx.apply_updates(model, updates)\n",
    "    return model, opt_state, loss_value\n",
    "\n",
    "\n",
    "with trange(steps, desc=\"\", unit=\" steps\", leave=False) as bar:\n",
    "    for step, (x_train, y_train) in zip(\n",
    "        bar, dataset.sample_train(key_train), strict=False\n",
    "    ):\n",
    "        model, opt_state, train_loss = make_step(model, opt_state, x_train, y_train)\n",
    "        if (step % print_every) == 0 or (step == steps - 1):\n",
    "            test_loss = 0\n",
    "            for x_test, y_test in test_samples:\n",
    "                test_loss += loss(model, x_test, y_test)\n",
    "            test_loss /= num_test_samples\n",
    "\n",
    "            bar.set_description(f\"train_loss = {float(train_loss):.1f}, test_loss = {float(test_loss):.1f}\")"
   ]
  },
  {
   "cell_type": "code",
   "execution_count": 5,
   "id": "12f4ce4d-9954-49d1-8e47-d076f9a45734",
   "metadata": {},
   "outputs": [],
   "source": [
    "test_samples_iter = dataset.sample_test(key_test)"
   ]
  },
  {
   "cell_type": "code",
   "execution_count": 6,
   "id": "0d47cfd8-9682-4d5e-9a7a-cf7b3d55d978",
   "metadata": {},
   "outputs": [
    {
     "data": {
      "image/png": "[encoded data removed]",
      "text/plain": [
       "<Figure size 640x480 with 6 Axes>"
      ]
     },
     "metadata": {},
     "output_type": "display_data"
    }
   ],
   "source": [
    "x_test, y_test = next(test_samples_iter)  # Each time this cell is run, a new sample is used.\n",
    "\n",
    "with jax.disable_jit():\n",
    "    loss(model, x_test, y_test, plot=True)"
   ]
  }
 ],
 "metadata": {
  "kernelspec": {
   "display_name": "Python 3 (ipykernel)",
   "language": "python",
   "name": "python3"
  },
  "language_info": {
   "codemirror_mode": {
    "name": "ipython",
    "version": 3
   },
   "file_extension": ".py",
   "mimetype": "text/x-python",
   "name": "python",
   "nbconvert_exporter": "python",
   "pygments_lexer": "ipython3",
   "version": "3.12.2"
  }
 },
 "nbformat": 4,
 "nbformat_minor": 5
}
